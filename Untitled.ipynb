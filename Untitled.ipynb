{
 "cells": [
  {
   "cell_type": "code",
   "execution_count": 8,
   "metadata": {},
   "outputs": [
    {
     "name": "stdout",
     "output_type": "stream",
     "text": [
      "('45lh8oBzO', '', 'Coke Studio Season 9\\nEpisode 6\\nSong: Tera Woh Pyar (Nawazishein Karam)\\nArtist: Momina Mustehsan & Asim Azhar', '6,413,570 views', 'Jan 4, 2018', '52K', '2K')\n"
     ]
    }
   ],
   "source": [
    "# this is the setup part\n",
    "# before run this code open your command prompt and type\n",
    "# pip3 install selenium\n",
    "\n",
    "from selenium import webdriver\n",
    "chrome_path=r\"D:\\my python codes\\web crawler using perenium\\chromedriver.exe\"\n",
    "driver= webdriver.Chrome(chrome_path)\n",
    "from selenium.webdriver.support.ui import WebDriverWait\n",
    "from selenium.webdriver.common.by import By\n",
    "from selenium.webdriver.support.ui import WebDriverWait\n",
    "from selenium.webdriver.support import expected_conditions as EC\n",
    "\n",
    "\n",
    "def get_data_from_youtube_link(link:str):\n",
    "    wait = WebDriverWait(driver, 10)\n",
    "    driver.get(link)\n",
    "    v_id = link.strip('https://www.youtube.com/watch?v=')\n",
    "    v_title = wait.until(EC.presence_of_element_located((By.CSS_SELECTOR,\"h1.title yt-formatted-string\"))).text\n",
    "    v_description =  wait.until(EC.presence_of_element_located((By.CSS_SELECTOR,\"div#description yt-formatted-string\"))).text\n",
    "    v_views_date=wait.until(EC.presence_of_element_located((By.CLASS_NAME,\"ytd-video-primary-info-renderer\"))).text.split(\"\\n\")[1]\n",
    "    v_views=v_views_date.split(\"•\")[0]\n",
    "    v_upload_date=v_views_date.split(\"•\")[1]\n",
    "    v_likes=wait.until(EC.presence_of_element_located((By.CLASS_NAME,\"ytd-video-primary-info-renderer\"))).text.split(\"\\n\")[2]\n",
    "    v_dislikes=wait.until(EC.presence_of_element_located((By.CLASS_NAME,\"ytd-video-primary-info-renderer\"))).text.split(\"\\n\")[3]\n",
    "    \n",
    "\n",
    "\n",
    "    return v_id,v_title,v_description,v_views,v_upload_date,v_likes,v_dislikes\n",
    "\n",
    "link=\"https://www.youtube.com/watch?v=y45lh8oBzOo\"\n",
    "ans=get_data_from_youtube_link(link)\n",
    "print(ans)\n",
    "driver.close()"
   ]
  },
  {
   "cell_type": "code",
   "execution_count": null,
   "metadata": {},
   "outputs": [],
   "source": []
  },
  {
   "cell_type": "code",
   "execution_count": null,
   "metadata": {},
   "outputs": [],
   "source": []
  }
 ],
 "metadata": {
  "kernelspec": {
   "display_name": "Python 3",
   "language": "python",
   "name": "python3"
  },
  "language_info": {
   "codemirror_mode": {
    "name": "ipython",
    "version": 3
   },
   "file_extension": ".py",
   "mimetype": "text/x-python",
   "name": "python",
   "nbconvert_exporter": "python",
   "pygments_lexer": "ipython3",
   "version": "3.7.4"
  }
 },
 "nbformat": 4,
 "nbformat_minor": 2
}
